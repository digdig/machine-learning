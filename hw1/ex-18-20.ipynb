{
 "cells": [
  {
   "cell_type": "code",
   "execution_count": 2,
   "metadata": {
    "collapsed": true
   },
   "outputs": [],
   "source": [
    "import numpy as np\n",
    "import matplotlib.pyplot as plt\n",
    "import random\n",
    "%matplotlib inline"
   ]
  },
  {
   "cell_type": "code",
   "execution_count": 3,
   "metadata": {
    "collapsed": false
   },
   "outputs": [],
   "source": [
    "#ex18, read data, x,y is the traning set. xTest, yTest is the testing set (actually the validation set)\n",
    "data = np.loadtxt('hw1_18_train.dat')\n",
    "N = len(data) # data numbers\n",
    "n = len(data[0]) # x_n dimension + 1(y_n)\n",
    "#xy.shape[0] or len(xy) calculate the rows\n",
    "#xy.shape[1] or len(xy[0]) calculate the columns\n",
    "y = data[:,-1]\n",
    "x = np.ones((N,n)) # expanded x_n dimension, with x_0 =1\n",
    "#http://stackoverflow.com/questions/8486294/how-to-add-an-extra-column-to-an-numpy-array\n",
    "x[:,1:] = data[:,:-1]\n",
    "\n",
    "data = np.loadtxt('hw1_18_test.dat')\n",
    "N = len(data) # data numbers\n",
    "n = len(data[0]) # x_n dimension + 1(y_n)\n",
    "yTest = data[:,-1]\n",
    "xTest = np.ones((N,n)) # expanded x_n dimension, with x_0 =1\n",
    "xTest[:,1:] = data[:,:-1]"
   ]
  },
  {
   "cell_type": "code",
   "execution_count": 17,
   "metadata": {
    "collapsed": false
   },
   "outputs": [],
   "source": [
    "#ex18, find \"bad points\" using training set, but decide whether update or not using validation set\n",
    "def errorEstimate(w,xVal,yVal):\n",
    "    error = 0\n",
    "    N = len(yVal)\n",
    "    for j in range(N):\n",
    "        if(yVal[j]*np.dot(w,xVal[j])<=0):\n",
    "            error += 1\n",
    "    return error/N\n",
    "\n",
    "def pocketPLA(xTrain,yTrain,xVal,yVal):\n",
    "    n = len(xTrain[0])\n",
    "    N = len(yTrain)\n",
    "    w = np.zeros(n)\n",
    "    wPocket = w\n",
    "    errorPocket = 1 #set the initial error to the maximum\n",
    "    nUpdate = 0 \n",
    "    while(nUpdate < 50):\n",
    "        #random.seed()\n",
    "        i = random.randint(0,N-1)\n",
    "        if(yTrain[i]*np.dot(w,xTrain[i])<=0):\n",
    "            w += xTrain[i]*yTrain[i]\n",
    "            nUpdate += 1\n",
    "            #Test set is actually validation set, it is using to tune the parameters\n",
    "            error = errorEstimate(w,xVal,yVal)\n",
    "            if(error < errorPocket):\n",
    "                wPocket = w #update wPocket if w is better than the current one\n",
    "                errorPocket = error \n",
    "    return errorPocket\n",
    "\n",
    "errorRecords = []\n",
    "for k in range(2000):\n",
    "    errorRecords.append(pocketPLA(x,y,xTest,yTest))"
   ]
  },
  {
   "cell_type": "code",
   "execution_count": 18,
   "metadata": {
    "collapsed": false,
    "scrolled": false
   },
   "outputs": [
    {
     "name": "stdout",
     "output_type": "stream",
     "text": [
      "2000\n",
      "0.128843\n"
     ]
    },
    {
     "data": {
      "image/png": "[encoded data removed]",
      "text/plain": [
       "<matplotlib.figure.Figure at 0x7f8134667f28>"
      ]
     },
     "metadata": {},
     "output_type": "display_data"
    }
   ],
   "source": [
    "print(len(errorRecords))\n",
    "print(np.average(errorRecords))\n",
    "plt.hist(errorRecords,bins=90,range=(0,1))\n",
    "plt.show()"
   ]
  },
  {
   "cell_type": "code",
   "execution_count": 23,
   "metadata": {
    "collapsed": false
   },
   "outputs": [],
   "source": [
    "#ex19, using PLA w_{50} to test the error\n",
    "def errorEstimate(w,x_test,y_test):\n",
    "    error = 0\n",
    "    N = len(y_test)\n",
    "    for j in range(N):\n",
    "        if(y_test[j]*np.dot(w,x_test[j])<=0):\n",
    "            error += 1\n",
    "    return error/N\n",
    "\n",
    "def PLA50(xTrain,yTrain,x_test,y_test):\n",
    "    n = len(xTrain[0])\n",
    "    N = len(yTrain)\n",
    "    w = np.zeros(n)\n",
    "    nUpdate = 0 \n",
    "    while(nUpdate < 50):\n",
    "        #random.seed()\n",
    "        i = random.randint(0,N-1)\n",
    "        if(yTrain[i]*np.dot(w,xTrain[i])<=0):\n",
    "            w += xTrain[i]*yTrain[i]\n",
    "            nUpdate += 1\n",
    "       \n",
    "    #Test set is really the test set, it is used to verify the training\n",
    "    error = errorEstimate(w,x_test,y_test)\n",
    "    return error\n",
    "\n",
    "errorRecords = []\n",
    "for k in range(2000):\n",
    "    errorRecords.append(pocketPLA(x,y,xTest,yTest))"
   ]
  },
  {
   "cell_type": "code",
   "execution_count": 24,
   "metadata": {
    "collapsed": false,
    "scrolled": true
   },
   "outputs": [
    {
     "name": "stdout",
     "output_type": "stream",
     "text": [
      "2000\n",
      "0.129704\n"
     ]
    },
    {
     "data": {
      "image/png": "[encoded data removed]",
      "text/plain": [
       "<matplotlib.figure.Figure at 0x7f8134aef6a0>"
      ]
     },
     "metadata": {},
     "output_type": "display_data"
    }
   ],
   "source": [
    "print(len(errorRecords))\n",
    "print(np.average(errorRecords))\n",
    "plt.hist(errorRecords,bins=90,range=(0,1))\n",
    "plt.show()"
   ]
  },
  {
   "cell_type": "code",
   "execution_count": 25,
   "metadata": {
    "collapsed": true
   },
   "outputs": [],
   "source": [
    "#ex20, find \"bad points\" using training set, but decide whether update or not using validation set\n",
    "def errorEstimate(w,xVal,yVal):\n",
    "    error = 0\n",
    "    N = len(yVal)\n",
    "    for j in range(N):\n",
    "        if(yVal[j]*np.dot(w,xVal[j])<=0):\n",
    "            error += 1\n",
    "    return error/N\n",
    "\n",
    "def pocketPLA(xTrain,yTrain,xVal,yVal):\n",
    "    n = len(xTrain[0])\n",
    "    N = len(yTrain)\n",
    "    w = np.zeros(n)\n",
    "    wPocket = w\n",
    "    errorPocket = 1 #set the initial error to the maximum\n",
    "    nUpdate = 0 \n",
    "    while(nUpdate < 100):\n",
    "        #random.seed()\n",
    "        i = random.randint(0,N-1)\n",
    "        if(yTrain[i]*np.dot(w,xTrain[i])<=0):\n",
    "            w += xTrain[i]*yTrain[i]\n",
    "            nUpdate += 1\n",
    "            #Test set is actually validation set, it is using to tune the parameters\n",
    "            error = errorEstimate(w,xVal,yVal)\n",
    "            if(error < errorPocket):\n",
    "                wPocket = w #update wPocket if w is better than the current one\n",
    "                errorPocket = error \n",
    "    return errorPocket\n",
    "\n",
    "errorRecords = []\n",
    "for k in range(2000):\n",
    "    errorRecords.append(pocketPLA(x,y,xTest,yTest))"
   ]
  },
  {
   "cell_type": "code",
   "execution_count": 26,
   "metadata": {
    "collapsed": false
   },
   "outputs": [
    {
     "name": "stdout",
     "output_type": "stream",
     "text": [
      "2000\n",
      "0.110585\n"
     ]
    },
    {
     "data": {
      "image/png": "[encoded data removed]",
      "text/plain": [
       "<matplotlib.figure.Figure at 0x7f81349bacf8>"
      ]
     },
     "metadata": {},
     "output_type": "display_data"
    }
   ],
   "source": [
    "print(len(errorRecords))\n",
    "print(np.average(errorRecords))\n",
    "plt.hist(errorRecords,bins=90,range=(0,1))\n",
    "plt.show()"
   ]
  },
  {
   "cell_type": "code",
   "execution_count": null,
   "metadata": {
    "collapsed": true
   },
   "outputs": [],
   "source": []
  }
 ],
 "metadata": {
  "kernelspec": {
   "display_name": "Python 3",
   "language": "python",
   "name": "python3"
  },
  "language_info": {
   "codemirror_mode": {
    "name": "ipython",
    "version": 3
   },
   "file_extension": ".py",
   "mimetype": "text/x-python",
   "name": "python",
   "nbconvert_exporter": "python",
   "pygments_lexer": "ipython3",
   "version": "3.5.2"
  }
 },
 "nbformat": 4,
 "nbformat_minor": 2
}
