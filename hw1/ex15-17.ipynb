{
 "cells": [
  {
   "cell_type": "code",
   "execution_count": 2,
   "metadata": {
    "collapsed": false
   },
   "outputs": [],
   "source": [
    "import numpy as np\n",
    "import matplotlib.pyplot as plt\n",
    "%matplotlib inline"
   ]
  },
  {
   "cell_type": "code",
   "execution_count": 3,
   "metadata": {
    "collapsed": false
   },
   "outputs": [],
   "source": [
    "data = np.loadtxt('hw1_15_train.dat')\n",
    "N = len(data) # data numbers\n",
    "n = len(data[0]) # x_n dimension + 1(y_n)\n",
    "#xy.shape[0] or len(xy) calculate the rows\n",
    "#xy.shape[1] or len(xy[0]) calculate the columns\n",
    "y = data[:,-1]\n",
    "x = np.ones((N,n)) # expanded x_n dimension, with x_0 =1\n",
    "#http://stackoverflow.com/questions/8486294/how-to-add-an-extra-column-to-an-numpy-array\n",
    "x[:,1:] = data[:,:-1]"
   ]
  },
  {
   "cell_type": "code",
   "execution_count": 4,
   "metadata": {
    "collapsed": false
   },
   "outputs": [
    {
     "name": "stdout",
     "output_type": "stream",
     "text": [
      "45 399\n"
     ]
    }
   ],
   "source": [
    "#ex15\n",
    "w = np.zeros(n)\n",
    "nUpdate = 0 \n",
    "has_error = 1\n",
    "while(has_error):\n",
    "    has_error = 0 # if no error in a full loop, this means all the points is separated well\n",
    "    for i in range(N):\n",
    "        if(y[i]*np.dot(w,x[i])<=0):\n",
    "            w += x[i]*y[i]\n",
    "            nUpdate += 1\n",
    "            index = i\n",
    "            has_error = 1\n",
    "    \n",
    "print(nUpdate,i)"
   ]
  },
  {
   "cell_type": "code",
   "execution_count": 5,
   "metadata": {
    "collapsed": false
   },
   "outputs": [],
   "source": [
    "#ex16\n",
    "import random\n",
    "count_dict = {}\n",
    "count_list = []\n",
    "for j in range(2000):\n",
    "    random.seed() #current system time is used, so guranteed every cycle has a different seed\n",
    "    point_order = random.sample(range(N),N)\n",
    "    w = np.zeros(n)\n",
    "    nUpdate = 0 \n",
    "    has_error = 1\n",
    "    while(has_error):\n",
    "        has_error = 0 # if no error in a full loop, this means all the points is separated well\n",
    "        for i in point_order:\n",
    "            if(y[i]*np.dot(w,x[i])<=0):\n",
    "                w += x[i]*y[i]\n",
    "                nUpdate += 1\n",
    "                has_error = 1\n",
    "    #http://stackoverflow.com/questions/1602934/check-if-a-given-key-already-exists-in-a-dictionary\n",
    "    count_dict[nUpdate] = count_dict.get(nUpdate,0) + 1\n",
    "    count_list.append(nUpdate) #used for plt.hist\n",
    "\n",
    "counts = list(count_dict.keys()) #used for plt.bar\n",
    "freqs = list(count_dict.values())"
   ]
  },
  {
   "cell_type": "code",
   "execution_count": 6,
   "metadata": {
    "collapsed": false
   },
   "outputs": [
    {
     "data": {
      "image/png": "[encoded data removed]",
      "text/plain": [
       "<matplotlib.figure.Figure at 0x7f3e90192048>"
      ]
     },
     "metadata": {},
     "output_type": "display_data"
    },
    {
     "data": {
      "image/png": "[encoded data removed]",
      "text/plain": [
       "<matplotlib.figure.Figure at 0x7f3e900a7b00>"
      ]
     },
     "metadata": {},
     "output_type": "display_data"
    },
    {
     "data": {
      "text/plain": [
       "40.548499999999997"
      ]
     },
     "execution_count": 6,
     "metadata": {},
     "output_type": "execute_result"
    }
   ],
   "source": [
    "plt.bar(counts,freqs)\n",
    "plt.show()\n",
    "plt.hist(count_list,bins = 90)\n",
    "plt.show()\n",
    "np.average(count_list)"
   ]
  },
  {
   "cell_type": "code",
   "execution_count": 113,
   "metadata": {
    "collapsed": true
   },
   "outputs": [],
   "source": [
    "#ex17\n",
    "import random\n",
    "eta = 0.5\n",
    "count_list = []\n",
    "for j in range(2000):\n",
    "    random.seed() #current system time is used, so guranteed every cycle has a different seed\n",
    "    point_order = random.sample(range(N),N)\n",
    "    w = np.zeros((1,n))\n",
    "    nUpdate = 0 \n",
    "    has_error = 1\n",
    "    while(has_error):\n",
    "        has_error = 0 # if no error in a full loop, this means all the points is separated well\n",
    "        for i in point_order:\n",
    "            if(y[i]*np.dot(w,x[i])<=0):\n",
    "                w += eta*x[i]*y[i]\n",
    "                nUpdate += 1\n",
    "                has_error = 1\n",
    "    count_list.append(nUpdate) #used for plt.hist"
   ]
  },
  {
   "cell_type": "code",
   "execution_count": 6,
   "metadata": {
    "collapsed": false
   },
   "outputs": [
    {
     "data": {
      "image/png": "[encoded data removed]",
      "text/plain": [
       "<matplotlib.figure.Figure at 0x105db2208>"
      ]
     },
     "metadata": {},
     "output_type": "display_data"
    },
    {
     "data": {
      "text/plain": [
       "40.137500000000003"
      ]
     },
     "execution_count": 6,
     "metadata": {},
     "output_type": "execute_result"
    }
   ],
   "source": [
    "plt.hist(count_list,bins = 90)\n",
    "plt.show()\n",
    "np.average(count_list)"
   ]
  },
  {
   "cell_type": "code",
   "execution_count": 6,
   "metadata": {
    "collapsed": true
   },
   "outputs": [],
   "source": [
    "#check the average update number verses eta, the average update number is independent of the update speed\n",
    "#ex17\n",
    "import random\n",
    "eta_list = []\n",
    "for eta in np.arange(0.1,1.1,0.1):\n",
    "    count_list = []\n",
    "    for j in range(2000):\n",
    "        random.seed() #current system time is used, so guranteed every cycle has a different seed\n",
    "        point_order = random.sample(range(N),N)\n",
    "        w = np.zeros((1,n))\n",
    "        nUpdate = 0 \n",
    "        has_error = 1\n",
    "        while(has_error):\n",
    "            has_error = 0 # if no error in a full loop, this means all the points is separated well\n",
    "            for i in point_order:\n",
    "                if(y[i]*np.dot(w,x[i])<=0):\n",
    "                    w += eta*x[i]*y[i]\n",
    "                    nUpdate += 1\n",
    "                    has_error = 1\n",
    "        count_list.append(nUpdate) #used for plt.hist\n",
    "    eta_list.append(np.average(count_list))"
   ]
  },
  {
   "cell_type": "code",
   "execution_count": 125,
   "metadata": {
    "collapsed": false
   },
   "outputs": [
    {
     "data": {
      "image/png": "[encoded data removed]",
      "text/plain": [
       "<matplotlib.figure.Figure at 0x7f3c1e18c9b0>"
      ]
     },
     "metadata": {},
     "output_type": "display_data"
    }
   ],
   "source": [
    "plt.plot(eta_list)\n",
    "plt.show()"
   ]
  },
  {
   "cell_type": "code",
   "execution_count": null,
   "metadata": {
    "collapsed": true
   },
   "outputs": [],
   "source": []
  }
 ],
 "metadata": {
  "kernelspec": {
   "display_name": "Python 3",
   "language": "python",
   "name": "python3"
  },
  "language_info": {
   "codemirror_mode": {
    "name": "ipython",
    "version": 3
   },
   "file_extension": ".py",
   "mimetype": "text/x-python",
   "name": "python",
   "nbconvert_exporter": "python",
   "pygments_lexer": "ipython3",
   "version": "3.5.2"
  }
 },
 "nbformat": 4,
 "nbformat_minor": 0
}
